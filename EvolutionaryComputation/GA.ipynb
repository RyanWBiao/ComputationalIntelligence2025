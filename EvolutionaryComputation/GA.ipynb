{
 "cells": [
  {
   "cell_type": "code",
   "execution_count": 2,
   "metadata": {},
   "outputs": [],
   "source": [
    "%matplotlib inline\n",
    "\n",
    "import numpy as np\n",
    "import pandas as pd\n",
    "import random\n",
    "import matplotlib.pyplot\n",
    "import matplotlib.pyplot as plt\n",
    "from tqdm import tqdm"
   ]
  },
  {
   "cell_type": "markdown",
   "metadata": {},
   "source": [
    "# Genetic Algorithm\n",
    "\n",
    "In this Jupyter notebook we will explore a very simple GA. Lets start by loading the breast cancer dataset from the UCI repo (https://archive.ics.uci.edu/ml/datasets/breast+cancer)"
   ]
  },
  {
   "cell_type": "code",
   "execution_count": 3,
   "metadata": {},
   "outputs": [
    {
     "name": "stdout",
     "output_type": "stream",
     "text": [
      "The dataset has 569 rows and 30 columns\n"
     ]
    }
   ],
   "source": [
    "from sklearn.datasets import load_breast_cancer\n",
    "from sklearn.model_selection import train_test_split\n",
    "from sklearn.linear_model import LogisticRegression\n",
    "from sklearn.metrics import accuracy_score\n",
    "\n",
    "cancer=load_breast_cancer()\n",
    "df = pd.DataFrame(cancer['data'],columns=cancer['feature_names'])\n",
    "label=cancer[\"target\"]\n",
    "\n",
    "# print(type(cancer))\n",
    "# print(type(cancer['data']))\n",
    "rows, cols = cancer['data'].shape\n",
    "print(\"The dataset has {} rows and {} columns\".format(rows,cols))\n",
    "# print(cancer['data'].shape)\n",
    "# print(type(label))\n",
    "# print(label.shape)"
   ]
  },
  {
   "cell_type": "markdown",
   "metadata": {},
   "source": [
    "Lets split this data into training and testing."
   ]
  },
  {
   "cell_type": "code",
   "execution_count": 4,
   "metadata": {},
   "outputs": [],
   "source": [
    "#splitting the model into training and testing set\n",
    "X_train, X_test, y_train, y_test = train_test_split(df, label, test_size=0.30, random_state=101)\n",
    "\n",
    "# X → features (inputs) → df\n",
    "# y → labels (targets) → label\n",
    "# test_size=0.30 → 30% of the data will be testing set, 70% for training\n",
    "# random_state=101 → fixes the random shuffling so results are reproducible (a seed for the random number generator.)"
   ]
  },
  {
   "cell_type": "markdown",
   "metadata": {},
   "source": [
    "Let's train a regression model. This is a \"machine learing/statistics/...\" mathematical model that takes a number of inputs and predicts a set of outputs."
   ]
  },
  {
   "cell_type": "code",
   "execution_count": 5,
   "metadata": {},
   "outputs": [
    {
     "name": "stdout",
     "output_type": "stream",
     "text": [
      "Accuracy = 0.9239766081871345\n"
     ]
    }
   ],
   "source": [
    "from warnings import filterwarnings\n",
    "filterwarnings('ignore')\n",
    "\n",
    "logmodel = LogisticRegression() # build the logistic regression machine\n",
    "logmodel.fit(X_train,y_train) # the training function\n",
    "predictions = logmodel.predict(X_test) # run on the test data\n",
    "print(\"Accuracy = \"+ str(accuracy_score(y_test,predictions))) # what is the accuracy?"
   ]
  },
  {
   "cell_type": "markdown",
   "metadata": {},
   "source": [
    "**NOW, what if we use a genetic algorithm for feature selection?** \n",
    "\n",
    "That is, maybe all the features are not to our benefit. What if instead we use a subset? Well, how can we find this subset? Why not use a GA? Well, its an example for this class, not arguing here that a GA is the best solution to this particular problem. Trying to keep our example small enough for you to follow!\n",
    "\n",
    "There are MANY ways we can go about this, for day one, howabout a chromosome is a {USE, NOT USE} per feature. \n",
    "\n",
    "First, lets initilize the population."
   ]
  },
  {
   "cell_type": "code",
   "execution_count": 6,
   "metadata": {},
   "outputs": [],
   "source": [
    "# size is the number of chromosomes(populations) in the population\n",
    "# n_feat is the number of features in the dataset.\n",
    "def initilization_of_population(size, n_feat):\n",
    "    population = []\n",
    "    for i in range(size): # do for each chromo\n",
    "        chromosome = np.ones(n_feat,dtype=bool) # include all features to start\n",
    "        chromosome[:int(0.3*n_feat)]=False # now, turn off 30% of our features (yes, you could have passed this as an argument!!!)\n",
    "        np.random.shuffle(chromosome) # randomly shuffle who is on/off\n",
    "        population.append(chromosome) # add to our population\n",
    "    return population"
   ]
  },
  {
   "cell_type": "markdown",
   "metadata": {},
   "source": [
    "Now, lets define our fitness function. \n",
    "\n",
    "For each chromosome, we need to train with respect to its feature subset then evaluate it. Yes, that requires a bit of computation.\n",
    "\n",
    "The function returns a sorted (best to worst) set of scores and chromosomes."
   ]
  },
  {
   "cell_type": "code",
   "execution_count": 7,
   "metadata": {},
   "outputs": [],
   "source": [
    "# This function evaluate the chromosomes in the population. \n",
    "# The input is the population, which is an array of chromosomes\n",
    "# The output is a new array of chromosomes sorted according to the scores. (Best chromosome to worest chromosome)\n",
    "# The original population will not change(这部分python和c不一样，如果在function里面改population，会导致全局变化)\n",
    "\n",
    "# The score evaluation method is the following:\n",
    "# Each data entry has a corresponding chromosome. We choose some features(columns) of the data according to its chromosome.\n",
    "# Use these selected features of samples from training set to get a logistic regression model.\n",
    "# Use the model to check the accuracy with the testing set. (Only use the selected features, too) Get the score.\n",
    "# We will know how well these features can train the model.\n",
    "\n",
    "def fitness_score(population):\n",
    "    scores = []\n",
    "\n",
    "    # Iterate through every chomosome. \n",
    "    #The chromosome is and array of bools like [T,T,F,F,T]. The X_train.iloc[:,chromosome] select all the lines and only the T columns\n",
    "\n",
    "    for chromosome in population: \n",
    "        # use the features we selected to train a model (iloc = integer-location based indexing in pandas.)\n",
    "        # In this process we only change the weight parameters in the logistic regression model according to selected features.\n",
    "        logmodel.fit(X_train.iloc[:,chromosome],y_train) \n",
    "\n",
    "        # eval that model (only use the same selected features to predict)\n",
    "        predictions = logmodel.predict(X_test.iloc[:,chromosome]) \n",
    "\n",
    "        # store that score. The score is an evaluation of the model train with selected features(The T columns of chromosome)\n",
    "        # The accuracy_score(y_true, y_pred) is just   correct predictions/tatol predictions\n",
    "        scores.append(accuracy_score(y_test,predictions)) \n",
    "        \n",
    "    # We use a new pop to represent the population sorted according to scores without modifying the original population\n",
    "    scores, pop = np.array(scores), np.array(population.copy()) \n",
    "\n",
    "    # returns the indices that would sort an array. \n",
    "    # Then make 2 list data structures. One is the descending score, the other is the list of the corresponding chromosomes.\n",
    "    # ([::-1] reverses the array → largest to smallest)\n",
    "    inds = np.argsort(scores) \n",
    "    scores = list(scores[inds][::-1]) \n",
    "    pop = list(pop[inds,:][::-1]) \n",
    "\n",
    "    return scores, pop"
   ]
  },
  {
   "cell_type": "markdown",
   "metadata": {},
   "source": [
    "Now, perform selection, using roulette wheel. In particular, lets say there are two parents to make a child. I will generate twice the number of chromosomes."
   ]
  },
  {
   "cell_type": "code",
   "execution_count": 7,
   "metadata": {},
   "outputs": [],
   "source": [
    "# Input:\n",
    "# scores: list of accuracy scores for each chromosome (sorted descending).\n",
    "# pop_after_fit: the corresponding population (chromosomes) sorted by accuracy.\n",
    "# Output:\n",
    "# population_nextgen: a new population of chromosomes (the \"parents\" for the next generation).\n",
    "# The output will be like: [father1(elite),mother1(elite),father2,mother2,father3,mother3....]\n",
    "\n",
    "def selection(scores,pop_after_fit):\n",
    "    population_nextgen = []\n",
    "\n",
    "    # first two entries will be used for elitism (i.e., keep that best solution from generation to next)\n",
    "    population_nextgen.append(pop_after_fit[0].copy())\n",
    "    population_nextgen.append(pop_after_fit[0].copy())\n",
    "\n",
    "    # now, select the other parents. Use the roulette wheel selection.\n",
    "    max_val = np.sum(scores)\n",
    "    for i in range(1,len(scores)):  # Assuming the next generation has the same number of chromosomes (x), we need to select (2x-2) chromosomes here. Plue the 2 above. \n",
    "        for k in range(2): # 2 parents \n",
    "            pick = random.uniform(0, max_val)\n",
    "            current = 0\n",
    "            for j in range(len(scores)): # accum\n",
    "                current += scores[j]\n",
    "                if current > pick: # our exit criteria based on the probability above\n",
    "                    break \n",
    "            population_nextgen.append(pop_after_fit[j].copy()) \n",
    "    # As a result, the chromosomes with higher scores are more likely to be selected.\n",
    "\n",
    "    return population_nextgen"
   ]
  },
  {
   "cell_type": "markdown",
   "metadata": {},
   "source": [
    "Crossover here takes two parents and makes a child\n",
    "\n",
    "The 2 points crossover is like this:\n",
    "\n",
    "[11111111111]  (parent1)\n",
    "\n",
    "[22222222222]  (parent2)\n",
    "\n",
    "[11122222111]  (child)"
   ]
  },
  {
   "cell_type": "code",
   "execution_count": null,
   "metadata": {},
   "outputs": [],
   "source": [
    "# The input is the population after the roulette wheel selection.[father1(elite),mother1(elite),father2,mother2,father3,mother3....]\n",
    "# The 2nd input si the size of the population. (Can be calculated from the size of the list? Don't really need it?)\n",
    "def crossover(pop_after_sel,sz):\n",
    "    # The number of the features:\n",
    "    n_feat = len(pop_after_sel[0])\n",
    "\n",
    "    # next generation\n",
    "    population_nextgen = [] \n",
    "\n",
    "    # first, elitism (Keep the best chromosome from current generation)\n",
    "    population_nextgen.append(pop_after_sel[0].copy())\n",
    "    \n",
    "    # now, handle the rest\n",
    "    for i in range(1,sz):\n",
    "        # make our child  (We set the child the be parent1, then we can modify the parent1)\n",
    "        child = pop_after_sel[2*i+0].copy()\n",
    "        # get the second parent\n",
    "        parent2 = pop_after_sel[2*i+1].copy()\n",
    "        # two point crossover\n",
    "        first_cross_point = random.randint(0,n_feat)\n",
    "        second_cross_point = random.randint(0,n_feat)\n",
    "        # did we get the same point? have to deal with that\n",
    "        if( first_cross_point == second_cross_point ):\n",
    "            first_cross_point = 0\n",
    "            second_cross_point = n_feat\n",
    "        # are our swap indices not in order? have to deal with that\n",
    "        if( first_cross_point > second_cross_point ):\n",
    "            swaper = first_cross_point\n",
    "            first_cross_point = second_cross_point\n",
    "            second_cross_point = swaper\n",
    "        # swap \n",
    "        child[first_cross_point:second_cross_point] = parent2[first_cross_point:second_cross_point]\n",
    "        population_nextgen.append(child) \n",
    "    return population_nextgen"
   ]
  },
  {
   "cell_type": "markdown",
   "metadata": {},
   "source": [
    "Mutation time!!!\n",
    "\n",
    "Like all the operations above, there are many ways to implement them (which we talk about in the class). Now, with respect to mutation, here we go through each chromosome and mutate using the probability that the user specified, per feature. "
   ]
  },
  {
   "cell_type": "code",
   "execution_count": null,
   "metadata": {},
   "outputs": [],
   "source": [
    "# mutation是基因突变\n",
    "# The first input is the population after crossover.\n",
    "# The 2nd input is the probility of mutation.(hyperparameter)\n",
    "def mutation(pop_after_cross,mutation_rate,sz):\n",
    "    population_nextgen = []\n",
    "    # Elitism\n",
    "    population_nextgen.append(pop_after_cross[0].copy())\n",
    "    \n",
    "    # From the second chromosome, select some genes wrt the probability to flip.\n",
    "    for i in range(1,sz): # go through each individual\n",
    "        chromosome = pop_after_cross[i].copy()\n",
    "        for j in range(len(chromosome)): # go through each feature\n",
    "            if random.random() < mutation_rate:\n",
    "                chromosome[j]= not chromosome[j] # this is the mutation (flip the gene  1->0  0->1)\n",
    "        population_nextgen.append(chromosome.copy())\n",
    "    return population_nextgen"
   ]
  },
  {
   "cell_type": "markdown",
   "metadata": {},
   "source": [
    "Our main function/loop"
   ]
  },
  {
   "cell_type": "code",
   "execution_count": null,
   "metadata": {},
   "outputs": [],
   "source": [
    "# 在这个算法里面，chromosome的作用相当于是一个indices，chromosome每一个entry都是一个Boolean。而我们训练的时候用的其实是数据，而这个chromosome的作用是决定在数据所有的feature中，我们选用哪一些feature来训练（如果这个feature对应到chromosome里面的bool是T，那我们就用这个feature参与training，反之则不用）。GA algorithm则是optimize这些选择，或者说，选择哪一些feature我们可以取得更好的训练效果，而训练本身用的还是logistics regression（需要复习这个部分）\n",
    "\n",
    "#from tqdm import tqdm_notebook as tqdm\n",
    "from tqdm.notebook import tqdm\n",
    "\n",
    "def generations(sz,n_feat,mutation_rate,n_gen,X_train,X_test, y_train, y_test):\n",
    "    # size = how many chromo's\n",
    "    # n_feat = how many features\n",
    "    # mutation rate, [0,1]\n",
    "    # n_gen == number of generations to run\n",
    "    # the rest is our training and testing data and labels-=\n",
    "    best_chromo = []\n",
    "    best_score = []\n",
    "    population_nextgen = initilization_of_population(sz,n_feat)\n",
    "    stats_min = np.zeros(n_gen)\n",
    "    stats_avg = np.zeros(n_gen)\n",
    "    stats_max = np.zeros(n_gen)\n",
    "    for i in tqdm(range(n_gen)):\n",
    "        # evaluate our chromos\n",
    "        scores, pop_after_fit = fitness_score(population_nextgen) # The output is an array of chromosomes (best to worst)\n",
    "        # keep track of best chromo and its score (what we return the end of the day)\n",
    "        best_chromo.append(pop_after_fit[0].copy())\n",
    "        best_score.append(scores[0].copy())     # The score is the accuracy we got from the training with the best chromosome   \n",
    "        # record some stats\n",
    "        stats_min[i] = np.min(scores)\n",
    "        stats_max[i] = np.amax(scores)\n",
    "        stats_avg[i] = np.mean(scores)\n",
    "        # do our GA\n",
    "        pop_sel = selection(scores,pop_after_fit)\n",
    "        pop_after_cross = crossover(pop_sel,sz)\n",
    "        population_nextgen = mutation(pop_after_cross,mutation_rate,sz)\n",
    "    return best_chromo,best_score,stats_min,stats_avg,stats_max"
   ]
  },
  {
   "cell_type": "markdown",
   "metadata": {},
   "source": [
    "Run the algorithm and plot some statistics per generation"
   ]
  },
  {
   "cell_type": "code",
   "execution_count": 11,
   "metadata": {},
   "outputs": [
    {
     "data": {
      "application/vnd.jupyter.widget-view+json": {
       "model_id": "81e575aa62cd4bcf8bd036269a8f9a7b",
       "version_major": 2,
       "version_minor": 0
      },
      "text/plain": [
       "  0%|          | 0/100 [00:00<?, ?it/s]"
      ]
     },
     "metadata": {},
     "output_type": "display_data"
    },
    {
     "data": {
      "image/png": "[encoded data removed]",
      "text/plain": [
       "<Figure size 640x480 with 1 Axes>"
      ]
     },
     "metadata": {},
     "output_type": "display_data"
    }
   ],
   "source": [
    "s = 100 # number of individuals\n",
    "feat = 30 # number of features in our problem\n",
    "ngen = 100 # number of generations\n",
    "chromo,score,stats_min,stats_avg,stats_max=generations(sz=s,n_feat=feat,mutation_rate=0.10,n_gen=ngen,X_train=X_train,X_test=X_test,y_train=y_train,y_test=y_test)\n",
    "\n",
    "# plot the statistics\n",
    "plt.plot(stats_min,'r')\n",
    "plt.plot(stats_avg,'b')\n",
    "plt.plot(stats_max,'g')\n",
    "plt.ylabel('accuracy')\n",
    "plt.xlabel('generations')\n",
    "plt.show()"
   ]
  },
  {
   "cell_type": "markdown",
   "metadata": {},
   "source": [
    "# Q&A\n",
    "\n",
    "Things for you to consider\n",
    "\n",
    " * We used elitism, was the best score (strictly?) monotonicly increasing? Explain.\n",
    " * Change crossover and/or mutation to a different operator\n",
    " * Do you want little or a lot of variance in your (min, average, max) statistics (whats a healthy profile)?\n",
    " * When should you terminate? \n",
    " * Plug in a different optimization problem from https://en.wikipedia.org/wiki/Test_functions_for_optimization"
   ]
  }
 ],
 "metadata": {
  "kernelspec": {
   "display_name": "base",
   "language": "python",
   "name": "python3"
  },
  "language_info": {
   "codemirror_mode": {
    "name": "ipython",
    "version": 3
   },
   "file_extension": ".py",
   "mimetype": "text/x-python",
   "name": "python",
   "nbconvert_exporter": "python",
   "pygments_lexer": "ipython3",
   "version": "3.8.5"
  }
 },
 "nbformat": 4,
 "nbformat_minor": 4
}
